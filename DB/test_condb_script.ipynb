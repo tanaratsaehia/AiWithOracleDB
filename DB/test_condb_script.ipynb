{
 "cells": [
  {
   "cell_type": "code",
   "execution_count": 12,
   "metadata": {},
   "outputs": [
    {
     "name": "stdout",
     "output_type": "stream",
     "text": [
      "('663380035-4', 'ธนรัตน์', 'แซ่เฮีย', None, 'F01', 'D02', 'T01')\n",
      "('663380031-2', 'กษิดิศ', 'บุญเสนอ', None, 'F01', 'D04', 'T03')\n",
      "('663380032-0', 'ชัชติยะ', 'สินธุธรรม', None, 'F03', 'D01', 'T04')\n",
      "('663380030-4', 'กมลลักษณ์', 'พลกูล', None, 'F01', 'D01', 'T02')\n",
      "('663020197-5', 'กฤษดา', 'โสมายัง', '123 จ.ขอนแก่น', 'F01', 'D01', 'T01')\n",
      "('663020200-2', 'ขวัญข้าว', 'เสียงเลิศ', '11 จ.ขอนแก่น', 'F01', 'D02', None)\n",
      "('663020205-2', 'ชนนิกา', 'ปัญจันทร์สิงห์', '์ 15 จ.ขอนแก่น', 'F01', 'D03', None)\n"
     ]
    }
   ],
   "source": [
    "import condb as con\n",
    "data = con.selectData(table=\"student\")\n",
    "for i in data:\n",
    "    print(i)"
   ]
  },
  {
   "cell_type": "code",
   "execution_count": 5,
   "metadata": {},
   "outputs": [
    {
     "name": "stdout",
     "output_type": "stream",
     "text": [
      "1 row inserted\n"
     ]
    },
    {
     "data": {
      "text/plain": [
       "True"
      ]
     },
     "execution_count": 5,
     "metadata": {},
     "output_type": "execute_result"
    }
   ],
   "source": [
    "con.insertData(table=\"product_type\", primary_key=\"'T05'\", values=\"'หมาดำ', 'หมาหมา'\")"
   ]
  },
  {
   "cell_type": "code",
   "execution_count": 16,
   "metadata": {},
   "outputs": [
    {
     "name": "stdout",
     "output_type": "stream",
     "text": [
      "1 row updated\n"
     ]
    },
    {
     "data": {
      "text/plain": [
       "True"
      ]
     },
     "execution_count": 16,
     "metadata": {},
     "output_type": "execute_result"
    }
   ],
   "source": [
    "con.updateData(table=\"product_type\", set=\"tname='หมาแดง'\", condition=\"tid='T02'\")"
   ]
  },
  {
   "cell_type": "code",
   "execution_count": 14,
   "metadata": {},
   "outputs": [
    {
     "name": "stdout",
     "output_type": "stream",
     "text": [
      "1 row deleted\n"
     ]
    },
    {
     "data": {
      "text/plain": [
       "True"
      ]
     },
     "execution_count": 14,
     "metadata": {},
     "output_type": "execute_result"
    }
   ],
   "source": [
    "con.deleteData(table=\"product_type\", condition=\"tid='T01'\")"
   ]
  },
  {
   "cell_type": "code",
   "execution_count": 9,
   "metadata": {},
   "outputs": [
    {
     "name": "stdout",
     "output_type": "stream",
     "text": [
      "here\n"
     ]
    }
   ],
   "source": [
    "a = \"t\"\n",
    "b = \"None\"\n",
    "\n",
    "if a and b:\n",
    "    print(\"here\")"
   ]
  }
 ],
 "metadata": {
  "kernelspec": {
   "display_name": "Python 3",
   "language": "python",
   "name": "python3"
  },
  "language_info": {
   "codemirror_mode": {
    "name": "ipython",
    "version": 3
   },
   "file_extension": ".py",
   "mimetype": "text/x-python",
   "name": "python",
   "nbconvert_exporter": "python",
   "pygments_lexer": "ipython3",
   "version": "3.8.10"
  }
 },
 "nbformat": 4,
 "nbformat_minor": 2
}
