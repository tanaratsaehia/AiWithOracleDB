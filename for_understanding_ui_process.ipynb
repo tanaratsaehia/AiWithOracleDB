{
 "cells": [
  {
   "cell_type": "code",
   "execution_count": 2,
   "metadata": {},
   "outputs": [],
   "source": [
    "import condb as con\n",
    "import hashlib\n",
    "import pickle"
   ]
  },
  {
   "cell_type": "markdown",
   "metadata": {},
   "source": [
    "LOGIN PAGE"
   ]
  },
  {
   "cell_type": "code",
   "execution_count": 6,
   "metadata": {},
   "outputs": [
    {
     "name": "stdout",
     "output_type": "stream",
     "text": [
      "login success\n"
     ]
    }
   ],
   "source": [
    "# EXAMPLE USER INPUT\n",
    "input_username = 'oil'\n",
    "input_password = 'oil1234'\n",
    "\n",
    "# HASH PASSWORD\n",
    "input_hash_pass = hashlib.sha1(input_password.encode())\n",
    "input_hash_pass = input_hash_pass.hexdigest()\n",
    "\n",
    "# GET USER DATA FROM DATABASE\n",
    "user_data = con.selectData(table='users', condition=f\"user_name='{input_username}'\")\n",
    "\n",
    "# CONDITION\n",
    "if len(user_data) >= 1:\n",
    "    user_passwors = user_data[0][2]\n",
    "    if user_passwors == input_hash_pass:\n",
    "        print('login success')\n",
    "    else:\n",
    "        print('password incorrect!')\n",
    "else:\n",
    "    print('username incorrect!')"
   ]
  },
  {
   "cell_type": "markdown",
   "metadata": {},
   "source": [
    "REGISTER PAGE"
   ]
  },
  {
   "cell_type": "code",
   "execution_count": 7,
   "metadata": {},
   "outputs": [
    {
     "name": "stdout",
     "output_type": "stream",
     "text": [
      "users 1 row inserted\n",
      "register complete\n"
     ]
    }
   ],
   "source": [
    "# EXAMPLE USER INPUT\n",
    "input_username = 'manow'\n",
    "input_password = 'manow1234'\n",
    "input_phone_number = '0987654321'\n",
    "input_email = 'manow.y@kkumail.com'\n",
    "input_bank_name = 'kasikorn'\n",
    "input_bank_number = '1234567890'\n",
    "input_address = 'near by khon kaen airport'\n",
    "\n",
    "# HASH PASSWORD\n",
    "input_hash_pass = hashlib.sha1(input_password.encode())\n",
    "input_hash_pass = input_hash_pass.hexdigest()\n",
    "\n",
    "# GET USER DATA FROM DATABASE\n",
    "find_user = con.selectData(table='users', condition=f\"user_name='{input_username}'\")\n",
    "\n",
    "# FORMAT INPUT DATA FOR INSERT\n",
    "insert_data = f\"\"\"  '{input_username}', \n",
    "                    '{input_hash_pass}', \n",
    "                    '{input_phone_number}', \n",
    "                    '{input_email}', \n",
    "                    '{input_address}', \n",
    "                    'user', \n",
    "                    '{input_bank_number}', \n",
    "                    '{input_bank_name}'\n",
    "                \"\"\"\n",
    "\n",
    "# FIND MAX OF PRIMARY KRY FROM USERS TABLE\n",
    "max_primary = con.selectData(table='users', column='max(user_id)')\n",
    "max_primary = max_primary[0][0]\n",
    "\n",
    "# CONDITION\n",
    "if len(find_user) > 0:\n",
    "    print(f'{input_username} already used!')\n",
    "else:\n",
    "    con.insertData(table='users', primary_key=max_primary+1, values=insert_data)\n",
    "    print('register complete')"
   ]
  },
  {
   "cell_type": "markdown",
   "metadata": {},
   "source": [
    "SALE PAGE"
   ]
  },
  {
   "cell_type": "code",
   "execution_count": 7,
   "metadata": {},
   "outputs": [
    {
     "name": "stdout",
     "output_type": "stream",
     "text": [
      "Ai offer 29395 dollar\n",
      "\n"
     ]
    },
    {
     "name": "stderr",
     "output_type": "stream",
     "text": [
      "c:\\Users\\User\\AppData\\Local\\Programs\\Python\\Python38\\lib\\site-packages\\sklearn\\base.py:450: UserWarning: X does not have valid feature names, but RandomForestRegressor was fitted with feature names\n",
      "  warnings.warn(\n"
     ]
    }
   ],
   "source": [
    "# AI PART\n",
    "# LOAD AI MODEL\n",
    "with open(r'D:\\KKU_World\\1_2\\DBMS\\termProject\\python\\Ai\\random_forest_model.pkl', 'rb') as f:\n",
    "    loaded_model = pickle.load(f)\n",
    "ai_model = loaded_model\n",
    "\n",
    "#EXAMPLE USER INPUT\n",
    "input_model = 'EcoSport'\n",
    "input_produc_year = '2020'\n",
    "input_engine_size = '4.0'\n",
    "input_transmission = 'Manual'\n",
    "input_fuel = 'Diesel'\n",
    "input_mile_per_gal = '35'\n",
    "input_mile_used = '16890'\n",
    "\n",
    "# MAPPING STRING FROM USER INPUT TO NUMBER FOR AI\n",
    "model_mapping = {\n",
    "    'Fiesta': 0,\n",
    "    'Focus': 1,\n",
    "    'Kuga': 2,\n",
    "    'EcoSport': 3,\n",
    "    'etc.': 4-22\n",
    "}\n",
    "transmission_mapping = {\n",
    "    'Manual': 0,\n",
    "    'Automatic': 1,\n",
    "    'Semi-Auto': 2\n",
    "}\n",
    "fuel_mapping = {\n",
    "    'Petrol': 0,\n",
    "    'Diesel': 1,\n",
    "    'Hybrid': 2,\n",
    "    'Electric': 3,\n",
    "    'Other': 4\n",
    "}\n",
    "\n",
    "# FORMAT DATA FOR AI\n",
    "format_data = [ int(model_mapping[input_model]), \n",
    "                int(input_produc_year), \n",
    "                int(transmission_mapping[input_transmission]), \n",
    "                float(input_mile_used), \n",
    "                int(fuel_mapping[input_fuel]), \n",
    "                float(input_mile_per_gal), \n",
    "                float(input_engine_size)\n",
    "            ]\n",
    "\n",
    "# PREDICT PRICE\n",
    "ai_offer_price = ai_model.predict([format_data])\n",
    "ai_offer_price = int(ai_offer_price[0])\n",
    "print('Ai offer', ai_offer_price, 'dollar\\n')"
   ]
  },
  {
   "cell_type": "code",
   "execution_count": 9,
   "metadata": {},
   "outputs": [
    {
     "name": "stdout",
     "output_type": "stream",
     "text": [
      "sales_history 1 row inserted\n",
      "✅ Data saved please wait response from admin\n"
     ]
    }
   ],
   "source": [
    "# DATABASE PART\n",
    "# EXAMPLE DATA\n",
    "user_id = 2\n",
    "file_name = 'fordCar_002.png'\n",
    "input_model = 'EcoSport'\n",
    "input_license_plate = 'PKU-2942'\n",
    "input_produc_year = '2020'\n",
    "input_engine_size = '4.0'\n",
    "input_transmission = 'Manual'\n",
    "input_fuel = 'Diesel'\n",
    "input_mile_per_gal = '35'\n",
    "input_mile_used = '16890'\n",
    "input_user_offer_price = '30000'\n",
    "\n",
    "# FIND MAX OF PRIMARY KEY FROM SALES_HISTORY TABLE\n",
    "max_sale_his_primary = con.selectData(table='sales_history', \n",
    "                                        column='max(sale_id)')\n",
    "max_sale_his_primary = max_sale_his_primary[0][0]\n",
    "\n",
    "# FUNCTION FIND EXIST CAR ID FROM CAR TABLE\n",
    "    # if found car in table return car id\n",
    "    # if not found insert new car and return new car id\n",
    "def find_car_id(model,  production_year, engine_size, miles_per_gallon, trans_id, fuel_id):\n",
    "    \"\"\"\n",
    "        if found exist car in DB return exist car id\n",
    "        if not found insert new car and return new car id\n",
    "    \"\"\"\n",
    "    condition_find_car = f\"\"\"model='{model}' \n",
    "                            and production_year={production_year} \n",
    "                            and engine_size={engine_size} \n",
    "                            and miles_per_gallon={miles_per_gallon} \n",
    "                            and trans_id={trans_id} and fuel_id={fuel_id}\n",
    "                            \"\"\"\n",
    "    \n",
    "    exist_car = con.selectData(table='car', condition=condition_find_car)\n",
    "    \n",
    "    if len(exist_car) <= 0:\n",
    "        format_insert_data = f\"'{model}', {production_year}, {engine_size}, {miles_per_gallon}, {trans_id}, {fuel_id}\"\n",
    "        max_car_id = con.selectData(table='car', column='max(car_id)')\n",
    "        max_car_id = max_car_id[0][0]\n",
    "        \n",
    "        if max_car_id == None:\n",
    "            max_car_id = 0\n",
    "        con.insertData(table='car', primary_key=max_car_id+1, values=format_insert_data)\n",
    "        return max_car_id+1\n",
    "    else:\n",
    "        return exist_car[0][0]\n",
    "\n",
    "# FIND CAR ID FOR INSERT DATA AND FORMAT INSERT DATA\n",
    "car_id = find_car_id(input_model, \n",
    "                    input_produc_year, \n",
    "                    input_engine_size, \n",
    "                    input_mile_per_gal, \n",
    "                    transmission_mapping[input_transmission], \n",
    "                    fuel_mapping[input_fuel]\n",
    "                    )\n",
    "format_insert_data = f\"\"\"\n",
    "                    '{user_id}', \n",
    "                    'user offer', \n",
    "                    '{file_name}', \n",
    "                    '{input_mile_used}', \n",
    "                    '{ai_offer_price}', \n",
    "                    '{input_user_offer_price}', \n",
    "                    null, \n",
    "                    '{input_license_plate}', \n",
    "                    '{car_id}'\"\"\"\n",
    "\n",
    "con.insertData(table='sales_history', \n",
    "                primary_key=max_sale_his_primary+1, \n",
    "                values=format_insert_data)\n",
    "print('✅ Data saved please wait response from admin')"
   ]
  },
  {
   "cell_type": "markdown",
   "metadata": {},
   "source": [
    "USER SALE HISTORY PAGE"
   ]
  },
  {
   "cell_type": "code",
   "execution_count": 3,
   "metadata": {},
   "outputs": [
    {
     "name": "stdout",
     "output_type": "stream",
     "text": [
      "[('oil_7.png', 'EcoSport', 2020, 16890, 'PKU-2942', 29395, 30000, None, 'user offer')]\n"
     ]
    }
   ],
   "source": [
    "# EXAMPLE USER DATA\n",
    "user_id = 1\n",
    "\n",
    "# DEFINE QUERY STRING\n",
    "query_str = f\"\"\"\n",
    "        SELECT path_picture, model, production_year, mile_used, license_plate, predict_price, user_offer_price, admin_offer_price, status\n",
    "        FROM sales_history, car\n",
    "        WHERE sales_history.car_id = car.car_id and sales_history.user_id = {user_id}\n",
    "        ORDER BY sale_id\n",
    "    \"\"\"\n",
    "\n",
    "sales_history_data = con.querySql(query_str)\n",
    "\n",
    "for i in sales_history_data:\n",
    "    print(sales_history_data)"
   ]
  },
  {
   "cell_type": "markdown",
   "metadata": {},
   "source": [
    "ADMIN SALE HISTORY PAGE"
   ]
  },
  {
   "cell_type": "code",
   "execution_count": 11,
   "metadata": {},
   "outputs": [
    {
     "name": "stdout",
     "output_type": "stream",
     "text": [
      "('oil_7.png', 1, 'oil', 'EcoSport', 2020, 16890, 'PKU-2942', '0984321907', 29395, 30000, None, 'user offer')\n",
      "('god_8.png', 3, 'god', 'Puma', 2019, 31650, 'KPC-1067', '0984321907', 30048, None, None, 'user confirm')\n",
      "('manow_9.png', 4, 'manow', 'Fiesta', 2023, 24926, 'KKU-2566', '0987654321', 29282, 29500, 29300, 'user offer')\n"
     ]
    }
   ],
   "source": [
    "# GET ALL SALES HISTORY DATA FROM SALES_HISTORY TABLE\n",
    "sales_data = con.selectData(table='admin_sale_history_data')\n",
    "for i in sales_data:\n",
    "    print(i)"
   ]
  },
  {
   "cell_type": "code",
   "execution_count": 12,
   "metadata": {},
   "outputs": [
    {
     "name": "stdout",
     "output_type": "stream",
     "text": [
      "sales_history 1 row updated\n"
     ]
    },
    {
     "data": {
      "text/plain": [
       "True"
      ]
     },
     "execution_count": 12,
     "metadata": {},
     "output_type": "execute_result"
    }
   ],
   "source": [
    "# EXAMPLE DATA FOR UPDATE SALES STATUS\n",
    "user_id = 4\n",
    "sale_id = 9\n",
    "admin_offer_price = 29300\n",
    "\n",
    "con.updateData(table='sales_history', \n",
    "                set=f'admin_offer_price={admin_offer_price}', \n",
    "                condition=f\"user_id={user_id} and sale_id={sale_id}\")"
   ]
  }
 ],
 "metadata": {
  "kernelspec": {
   "display_name": "Python 3",
   "language": "python",
   "name": "python3"
  },
  "language_info": {
   "codemirror_mode": {
    "name": "ipython",
    "version": 3
   },
   "file_extension": ".py",
   "mimetype": "text/x-python",
   "name": "python",
   "nbconvert_exporter": "python",
   "pygments_lexer": "ipython3",
   "version": "3.8.10"
  }
 },
 "nbformat": 4,
 "nbformat_minor": 2
}
