{
 "cells": [
  {
   "cell_type": "code",
   "execution_count": null,
   "metadata": {},
   "outputs": [],
   "source": [
    "# src: https://www.kaggle.com/code/venkatganesh98/ford-car-price-prediction-randomforestregr-acc-93"
   ]
  },
  {
   "cell_type": "code",
   "execution_count": 2,
   "metadata": {},
   "outputs": [],
   "source": [
    "# common\n",
    "import os\n",
    "import numpy as np\n",
    "import pandas as pd\n",
    "\n",
    "# data visualization\n",
    "import matplotlib.pyplot as plt\n",
    "import seaborn as snsai\n",
    "\n",
    "# pre-processing\n",
    "\n",
    "## encoder\n",
    "from sklearn.preprocessing import LabelEncoder\n",
    "from sklearn.preprocessing import OneHotEncoder\n",
    "\n",
    "## scaling\n",
    "from sklearn.preprocessing import StandardScaler\n",
    "\n",
    "## splitting the data\n",
    "from sklearn.model_selection import train_test_split\n",
    "\n",
    "## model\n",
    "from sklearn.ensemble import RandomForestRegressor\n",
    "\n",
    "## evaluation metrics\n",
    "from sklearn.metrics import mean_squared_error\n",
    "from sklearn.metrics import mean_absolute_error\n",
    "from sklearn.metrics import r2_score\n",
    "from sklearn.model_selection import cross_val_score\n",
    "\n",
    "# fine tuning\n",
    "from sklearn.model_selection import GridSearchCV\n",
    "\n",
    "# warnings\n",
    "import warnings\n",
    "warnings.filterwarnings('ignore')"
   ]
  },
  {
   "cell_type": "code",
   "execution_count": 3,
   "metadata": {},
   "outputs": [
    {
     "data": {
      "text/plain": [
       "model           0\n",
       "year            0\n",
       "price           0\n",
       "transmission    0\n",
       "mileage         0\n",
       "fuelType        0\n",
       "tax             0\n",
       "mpg             0\n",
       "engineSize      0\n",
       "dtype: int64"
      ]
     },
     "execution_count": 3,
     "metadata": {},
     "output_type": "execute_result"
    }
   ],
   "source": [
    "data_dir = r\"D:\\KKU_World\\1_2\\DBMS\\termProject\\python\\Ai\\dataset\\archive\\ford.csv\"\n",
    "df = pd.read_csv(data_dir)\n",
    "# view the data frame\n",
    "# df.head()\n",
    "# df.shape\n",
    "# df.info()\n",
    "df.isna().sum()"
   ]
  },
  {
   "cell_type": "code",
   "execution_count": 35,
   "metadata": {},
   "outputs": [
    {
     "data": {
      "text/plain": [
       "Fiesta                   6557\n",
       "Focus                    4589\n",
       "Kuga                     2225\n",
       "EcoSport                 1143\n",
       "C-MAX                     543\n",
       "Ka+                       531\n",
       "Mondeo                    526\n",
       "B-MAX                     355\n",
       "S-MAX                     296\n",
       "Grand C-MAX               247\n",
       "Galaxy                    228\n",
       "Edge                      208\n",
       "KA                        199\n",
       "Puma                       80\n",
       "Tourneo Custom             69\n",
       "Grand Tourneo Connect      59\n",
       "Mustang                    57\n",
       "Tourneo Connect            33\n",
       "Fusion                     16\n",
       "Streetka                    2\n",
       "Ranger                      1\n",
       "Escort                      1\n",
       "Transit Tourneo             1\n",
       "Name: model, dtype: int64"
      ]
     },
     "execution_count": 35,
     "metadata": {},
     "output_type": "execute_result"
    }
   ],
   "source": [
    "df['model'].value_counts()"
   ]
  },
  {
   "cell_type": "code",
   "execution_count": 6,
   "metadata": {},
   "outputs": [
    {
     "data": {
      "text/plain": [
       "2017    4888\n",
       "2018    4014\n",
       "2019    3194\n",
       "2016    2331\n",
       "2015    1368\n",
       "2014     805\n",
       "2013     609\n",
       "2020     258\n",
       "2012     115\n",
       "2011      94\n",
       "2009      91\n",
       "2010      67\n",
       "2008      57\n",
       "2007      32\n",
       "2005      16\n",
       "2006      13\n",
       "2004       4\n",
       "2002       3\n",
       "2003       3\n",
       "1998       1\n",
       "1996       1\n",
       "2000       1\n",
       "2060       1\n",
       "Name: year, dtype: int64"
      ]
     },
     "execution_count": 6,
     "metadata": {},
     "output_type": "execute_result"
    }
   ],
   "source": [
    "df['year'].value_counts()"
   ]
  },
  {
   "cell_type": "code",
   "execution_count": 3,
   "metadata": {},
   "outputs": [
    {
     "data": {
      "text/plain": [
       "Manual       15518\n",
       "Automatic     1361\n",
       "Semi-Auto     1087\n",
       "Name: transmission, dtype: int64"
      ]
     },
     "execution_count": 3,
     "metadata": {},
     "output_type": "execute_result"
    }
   ],
   "source": [
    "df['transmission'].value_counts()"
   ]
  },
  {
   "cell_type": "code",
   "execution_count": 4,
   "metadata": {},
   "outputs": [
    {
     "data": {
      "text/plain": [
       "Petrol      12179\n",
       "Diesel       5762\n",
       "Hybrid         22\n",
       "Electric        2\n",
       "Other           1\n",
       "Name: fuelType, dtype: int64"
      ]
     },
     "execution_count": 4,
     "metadata": {},
     "output_type": "execute_result"
    }
   ],
   "source": [
    "df['fuelType'].value_counts()"
   ]
  },
  {
   "cell_type": "code",
   "execution_count": 9,
   "metadata": {},
   "outputs": [
    {
     "data": {
      "text/plain": [
       "1.0    7765\n",
       "1.5    3418\n",
       "2.0    3311\n",
       "1.2    1626\n",
       "1.6     923\n",
       "1.1     559\n",
       "1.4     112\n",
       "2.3      80\n",
       "0.0      51\n",
       "5.0      45\n",
       "1.8      35\n",
       "2.2      13\n",
       "2.5      13\n",
       "1.3      13\n",
       "3.2       1\n",
       "1.7       1\n",
       "Name: engineSize, dtype: int64"
      ]
     },
     "execution_count": 9,
     "metadata": {},
     "output_type": "execute_result"
    }
   ],
   "source": [
    "df['engineSize'].value_counts()"
   ]
  },
  {
   "cell_type": "code",
   "execution_count": 5,
   "metadata": {},
   "outputs": [],
   "source": [
    "model_mapping = {\n",
    "    'Fiesta': 0,\n",
    "    'Focus': 1,\n",
    "    'Kuga': 2,\n",
    "    'EcoSport': 3,\n",
    "    'C-MAX': 4,\n",
    "    'Ka+': 5,\n",
    "    'Mondeo': 6,\n",
    "    'B-MAX': 7,\n",
    "    'S-MAX': 8,\n",
    "    'Grand C-MAX': 9,\n",
    "    'Galaxy': 10,\n",
    "    'Edge': 11,\n",
    "    'KA': 12,\n",
    "    'Puma': 13,\n",
    "    'Tourneo Custom': 14,\n",
    "    'Grand Tourneo Connect': 15,\n",
    "    'Mustang': 16,\n",
    "    'Tourneo Connect': 17,\n",
    "    'Fusion': 18,\n",
    "    'Streetka': 19,\n",
    "    'Ranger': 20,\n",
    "    'Escort': 21,\n",
    "    'Transit Tourneo': 22\n",
    "}\n",
    "\n",
    "transmission_mapping = {\n",
    "    'Manual': 0,\n",
    "    'Automatic': 1,\n",
    "    'Semi-Auto': 2\n",
    "}\n",
    "\n",
    "fuel_mapping = {\n",
    "    'Petrol': 0,\n",
    "    'Diesel': 1,\n",
    "    'Hybrid': 2,\n",
    "    'Electric': 3,\n",
    "    'Other': 4\n",
    "}\n"
   ]
  },
  {
   "cell_type": "code",
   "execution_count": 10,
   "metadata": {},
   "outputs": [],
   "source": [
    "keys = tuple(model_mapping.keys())\n"
   ]
  },
  {
   "cell_type": "code",
   "execution_count": 6,
   "metadata": {},
   "outputs": [
    {
     "data": {
      "text/plain": [
       "0     6557\n",
       "1     4589\n",
       "2     2225\n",
       "3     1143\n",
       "4      543\n",
       "5      531\n",
       "6      526\n",
       "7      355\n",
       "8      296\n",
       "9      247\n",
       "10     228\n",
       "11     208\n",
       "12     199\n",
       "13      80\n",
       "14      69\n",
       "15      59\n",
       "16      57\n",
       "17      33\n",
       "18      16\n",
       "19       2\n",
       "20       1\n",
       "21       1\n",
       "22       1\n",
       "Name: model, dtype: int64"
      ]
     },
     "execution_count": 6,
     "metadata": {},
     "output_type": "execute_result"
    }
   ],
   "source": [
    "for i in range(len(df['model'])):\n",
    "    df['model'][i] = model_mapping[df['model'][i]]\n",
    "    # print(i)\n",
    "df['model'].value_counts()"
   ]
  },
  {
   "cell_type": "code",
   "execution_count": 7,
   "metadata": {},
   "outputs": [
    {
     "data": {
      "text/plain": [
       "0    15518\n",
       "1     1361\n",
       "2     1087\n",
       "Name: transmission, dtype: int64"
      ]
     },
     "execution_count": 7,
     "metadata": {},
     "output_type": "execute_result"
    }
   ],
   "source": [
    "for i in range(len(df['transmission'])):\n",
    "    df['transmission'][i] = transmission_mapping[df['transmission'][i]]\n",
    "\n",
    "df['transmission'].value_counts()"
   ]
  },
  {
   "cell_type": "code",
   "execution_count": 8,
   "metadata": {},
   "outputs": [
    {
     "data": {
      "text/plain": [
       "0    12179\n",
       "1     5762\n",
       "2       22\n",
       "3        2\n",
       "4        1\n",
       "Name: fuelType, dtype: int64"
      ]
     },
     "execution_count": 8,
     "metadata": {},
     "output_type": "execute_result"
    }
   ],
   "source": [
    "for i in range(len(df['fuelType'])):\n",
    "    df['fuelType'][i] = fuel_mapping[df['fuelType'][i]]\n",
    "\n",
    "df['fuelType'].value_counts()"
   ]
  },
  {
   "cell_type": "code",
   "execution_count": 41,
   "metadata": {},
   "outputs": [
    {
     "data": {
      "text/html": [
       "<div>\n",
       "<style scoped>\n",
       "    .dataframe tbody tr th:only-of-type {\n",
       "        vertical-align: middle;\n",
       "    }\n",
       "\n",
       "    .dataframe tbody tr th {\n",
       "        vertical-align: top;\n",
       "    }\n",
       "\n",
       "    .dataframe thead th {\n",
       "        text-align: right;\n",
       "    }\n",
       "</style>\n",
       "<table border=\"1\" class=\"dataframe\">\n",
       "  <thead>\n",
       "    <tr style=\"text-align: right;\">\n",
       "      <th></th>\n",
       "      <th>model</th>\n",
       "      <th>year</th>\n",
       "      <th>price</th>\n",
       "      <th>transmission</th>\n",
       "      <th>mileage</th>\n",
       "      <th>fuelType</th>\n",
       "      <th>tax</th>\n",
       "      <th>mpg</th>\n",
       "      <th>engineSize</th>\n",
       "    </tr>\n",
       "  </thead>\n",
       "  <tbody>\n",
       "    <tr>\n",
       "      <th>0</th>\n",
       "      <td>0</td>\n",
       "      <td>2017</td>\n",
       "      <td>12000</td>\n",
       "      <td>1</td>\n",
       "      <td>15944</td>\n",
       "      <td>0</td>\n",
       "      <td>150</td>\n",
       "      <td>57.7</td>\n",
       "      <td>1.0</td>\n",
       "    </tr>\n",
       "    <tr>\n",
       "      <th>1</th>\n",
       "      <td>1</td>\n",
       "      <td>2018</td>\n",
       "      <td>14000</td>\n",
       "      <td>0</td>\n",
       "      <td>9083</td>\n",
       "      <td>0</td>\n",
       "      <td>150</td>\n",
       "      <td>57.7</td>\n",
       "      <td>1.0</td>\n",
       "    </tr>\n",
       "    <tr>\n",
       "      <th>2</th>\n",
       "      <td>1</td>\n",
       "      <td>2017</td>\n",
       "      <td>13000</td>\n",
       "      <td>0</td>\n",
       "      <td>12456</td>\n",
       "      <td>0</td>\n",
       "      <td>150</td>\n",
       "      <td>57.7</td>\n",
       "      <td>1.0</td>\n",
       "    </tr>\n",
       "    <tr>\n",
       "      <th>3</th>\n",
       "      <td>0</td>\n",
       "      <td>2019</td>\n",
       "      <td>17500</td>\n",
       "      <td>0</td>\n",
       "      <td>10460</td>\n",
       "      <td>0</td>\n",
       "      <td>145</td>\n",
       "      <td>40.3</td>\n",
       "      <td>1.5</td>\n",
       "    </tr>\n",
       "    <tr>\n",
       "      <th>4</th>\n",
       "      <td>0</td>\n",
       "      <td>2019</td>\n",
       "      <td>16500</td>\n",
       "      <td>1</td>\n",
       "      <td>1482</td>\n",
       "      <td>0</td>\n",
       "      <td>145</td>\n",
       "      <td>48.7</td>\n",
       "      <td>1.0</td>\n",
       "    </tr>\n",
       "    <tr>\n",
       "      <th>...</th>\n",
       "      <td>...</td>\n",
       "      <td>...</td>\n",
       "      <td>...</td>\n",
       "      <td>...</td>\n",
       "      <td>...</td>\n",
       "      <td>...</td>\n",
       "      <td>...</td>\n",
       "      <td>...</td>\n",
       "      <td>...</td>\n",
       "    </tr>\n",
       "    <tr>\n",
       "      <th>17961</th>\n",
       "      <td>7</td>\n",
       "      <td>2017</td>\n",
       "      <td>8999</td>\n",
       "      <td>0</td>\n",
       "      <td>16700</td>\n",
       "      <td>0</td>\n",
       "      <td>150</td>\n",
       "      <td>47.1</td>\n",
       "      <td>1.4</td>\n",
       "    </tr>\n",
       "    <tr>\n",
       "      <th>17962</th>\n",
       "      <td>7</td>\n",
       "      <td>2014</td>\n",
       "      <td>7499</td>\n",
       "      <td>0</td>\n",
       "      <td>40700</td>\n",
       "      <td>0</td>\n",
       "      <td>30</td>\n",
       "      <td>57.7</td>\n",
       "      <td>1.0</td>\n",
       "    </tr>\n",
       "    <tr>\n",
       "      <th>17963</th>\n",
       "      <td>1</td>\n",
       "      <td>2015</td>\n",
       "      <td>9999</td>\n",
       "      <td>0</td>\n",
       "      <td>7010</td>\n",
       "      <td>1</td>\n",
       "      <td>20</td>\n",
       "      <td>67.3</td>\n",
       "      <td>1.6</td>\n",
       "    </tr>\n",
       "    <tr>\n",
       "      <th>17964</th>\n",
       "      <td>12</td>\n",
       "      <td>2018</td>\n",
       "      <td>8299</td>\n",
       "      <td>0</td>\n",
       "      <td>5007</td>\n",
       "      <td>0</td>\n",
       "      <td>145</td>\n",
       "      <td>57.7</td>\n",
       "      <td>1.2</td>\n",
       "    </tr>\n",
       "    <tr>\n",
       "      <th>17965</th>\n",
       "      <td>1</td>\n",
       "      <td>2015</td>\n",
       "      <td>8299</td>\n",
       "      <td>0</td>\n",
       "      <td>5007</td>\n",
       "      <td>0</td>\n",
       "      <td>22</td>\n",
       "      <td>57.7</td>\n",
       "      <td>1.0</td>\n",
       "    </tr>\n",
       "  </tbody>\n",
       "</table>\n",
       "<p>17966 rows × 9 columns</p>\n",
       "</div>"
      ],
      "text/plain": [
       "      model  year  price transmission  mileage fuelType  tax   mpg  engineSize\n",
       "0         0  2017  12000            1    15944        0  150  57.7         1.0\n",
       "1         1  2018  14000            0     9083        0  150  57.7         1.0\n",
       "2         1  2017  13000            0    12456        0  150  57.7         1.0\n",
       "3         0  2019  17500            0    10460        0  145  40.3         1.5\n",
       "4         0  2019  16500            1     1482        0  145  48.7         1.0\n",
       "...     ...   ...    ...          ...      ...      ...  ...   ...         ...\n",
       "17961     7  2017   8999            0    16700        0  150  47.1         1.4\n",
       "17962     7  2014   7499            0    40700        0   30  57.7         1.0\n",
       "17963     1  2015   9999            0     7010        1   20  67.3         1.6\n",
       "17964    12  2018   8299            0     5007        0  145  57.7         1.2\n",
       "17965     1  2015   8299            0     5007        0   22  57.7         1.0\n",
       "\n",
       "[17966 rows x 9 columns]"
      ]
     },
     "execution_count": 41,
     "metadata": {},
     "output_type": "execute_result"
    }
   ],
   "source": [
    "df"
   ]
  },
  {
   "cell_type": "code",
   "execution_count": 9,
   "metadata": {},
   "outputs": [
    {
     "data": {
      "text/plain": [
       "(  model  year transmission  mileage fuelType   mpg  engineSize\n",
       " 0     0  2017            1    15944        0  57.7         1.0\n",
       " 1     1  2018            0     9083        0  57.7         1.0\n",
       " 2     1  2017            0    12456        0  57.7         1.0\n",
       " 3     0  2019            0    10460        0  40.3         1.5\n",
       " 4     0  2019            1     1482        0  48.7         1.0,\n",
       " (17966, 7),\n",
       " 0    12000\n",
       " 1    14000\n",
       " 2    13000\n",
       " 3    17500\n",
       " 4    16500\n",
       " Name: price, dtype: int64,\n",
       " (17966,))"
      ]
     },
     "execution_count": 9,
     "metadata": {},
     "output_type": "execute_result"
    }
   ],
   "source": [
    "# splitting into feature and label\n",
    "x = df.drop(['price', 'tax'], axis=1)\n",
    "y = df['price']\n",
    "x.head(), x.shape, y.head(), y.shape"
   ]
  },
  {
   "cell_type": "code",
   "execution_count": 10,
   "metadata": {},
   "outputs": [
    {
     "data": {
      "text/plain": [
       "((14372, 7), (3594, 7), (14372,), (3594,))"
      ]
     },
     "execution_count": 10,
     "metadata": {},
     "output_type": "execute_result"
    }
   ],
   "source": [
    "# splitting into train and test split\n",
    "x_train, x_test, y_train, y_test = train_test_split(x, y, test_size=0.2, random_state=42)\n",
    "x_train.shape, x_test.shape, y_train.shape, y_test.shape"
   ]
  },
  {
   "cell_type": "code",
   "execution_count": 10,
   "metadata": {},
   "outputs": [
    {
     "data": {
      "text/html": [
       "<style>#sk-container-id-1 {color: black;background-color: white;}#sk-container-id-1 pre{padding: 0;}#sk-container-id-1 div.sk-toggleable {background-color: white;}#sk-container-id-1 label.sk-toggleable__label {cursor: pointer;display: block;width: 100%;margin-bottom: 0;padding: 0.3em;box-sizing: border-box;text-align: center;}#sk-container-id-1 label.sk-toggleable__label-arrow:before {content: \"▸\";float: left;margin-right: 0.25em;color: #696969;}#sk-container-id-1 label.sk-toggleable__label-arrow:hover:before {color: black;}#sk-container-id-1 div.sk-estimator:hover label.sk-toggleable__label-arrow:before {color: black;}#sk-container-id-1 div.sk-toggleable__content {max-height: 0;max-width: 0;overflow: hidden;text-align: left;background-color: #f0f8ff;}#sk-container-id-1 div.sk-toggleable__content pre {margin: 0.2em;color: black;border-radius: 0.25em;background-color: #f0f8ff;}#sk-container-id-1 input.sk-toggleable__control:checked~div.sk-toggleable__content {max-height: 200px;max-width: 100%;overflow: auto;}#sk-container-id-1 input.sk-toggleable__control:checked~label.sk-toggleable__label-arrow:before {content: \"▾\";}#sk-container-id-1 div.sk-estimator input.sk-toggleable__control:checked~label.sk-toggleable__label {background-color: #d4ebff;}#sk-container-id-1 div.sk-label input.sk-toggleable__control:checked~label.sk-toggleable__label {background-color: #d4ebff;}#sk-container-id-1 input.sk-hidden--visually {border: 0;clip: rect(1px 1px 1px 1px);clip: rect(1px, 1px, 1px, 1px);height: 1px;margin: -1px;overflow: hidden;padding: 0;position: absolute;width: 1px;}#sk-container-id-1 div.sk-estimator {font-family: monospace;background-color: #f0f8ff;border: 1px dotted black;border-radius: 0.25em;box-sizing: border-box;margin-bottom: 0.5em;}#sk-container-id-1 div.sk-estimator:hover {background-color: #d4ebff;}#sk-container-id-1 div.sk-parallel-item::after {content: \"\";width: 100%;border-bottom: 1px solid gray;flex-grow: 1;}#sk-container-id-1 div.sk-label:hover label.sk-toggleable__label {background-color: #d4ebff;}#sk-container-id-1 div.sk-serial::before {content: \"\";position: absolute;border-left: 1px solid gray;box-sizing: border-box;top: 0;bottom: 0;left: 50%;z-index: 0;}#sk-container-id-1 div.sk-serial {display: flex;flex-direction: column;align-items: center;background-color: white;padding-right: 0.2em;padding-left: 0.2em;position: relative;}#sk-container-id-1 div.sk-item {position: relative;z-index: 1;}#sk-container-id-1 div.sk-parallel {display: flex;align-items: stretch;justify-content: center;background-color: white;position: relative;}#sk-container-id-1 div.sk-item::before, #sk-container-id-1 div.sk-parallel-item::before {content: \"\";position: absolute;border-left: 1px solid gray;box-sizing: border-box;top: 0;bottom: 0;left: 50%;z-index: -1;}#sk-container-id-1 div.sk-parallel-item {display: flex;flex-direction: column;z-index: 1;position: relative;background-color: white;}#sk-container-id-1 div.sk-parallel-item:first-child::after {align-self: flex-end;width: 50%;}#sk-container-id-1 div.sk-parallel-item:last-child::after {align-self: flex-start;width: 50%;}#sk-container-id-1 div.sk-parallel-item:only-child::after {width: 0;}#sk-container-id-1 div.sk-dashed-wrapped {border: 1px dashed gray;margin: 0 0.4em 0.5em 0.4em;box-sizing: border-box;padding-bottom: 0.4em;background-color: white;}#sk-container-id-1 div.sk-label label {font-family: monospace;font-weight: bold;display: inline-block;line-height: 1.2em;}#sk-container-id-1 div.sk-label-container {text-align: center;}#sk-container-id-1 div.sk-container {/* jupyter's `normalize.less` sets `[hidden] { display: none; }` but bootstrap.min.css set `[hidden] { display: none !important; }` so we also need the `!important` here to be able to override the default hidden behavior on the sphinx rendered scikit-learn.org. See: https://github.com/scikit-learn/scikit-learn/issues/21755 */display: inline-block !important;position: relative;}#sk-container-id-1 div.sk-text-repr-fallback {display: none;}</style><div id=\"sk-container-id-1\" class=\"sk-top-container\"><div class=\"sk-text-repr-fallback\"><pre>RandomForestRegressor(max_depth=20, n_estimators=1000, random_state=42)</pre><b>In a Jupyter environment, please rerun this cell to show the HTML representation or trust the notebook. <br />On GitHub, the HTML representation is unable to render, please try loading this page with nbviewer.org.</b></div><div class=\"sk-container\" hidden><div class=\"sk-item\"><div class=\"sk-estimator sk-toggleable\"><input class=\"sk-toggleable__control sk-hidden--visually\" id=\"sk-estimator-id-1\" type=\"checkbox\" checked><label for=\"sk-estimator-id-1\" class=\"sk-toggleable__label sk-toggleable__label-arrow\">RandomForestRegressor</label><div class=\"sk-toggleable__content\"><pre>RandomForestRegressor(max_depth=20, n_estimators=1000, random_state=42)</pre></div></div></div></div></div>"
      ],
      "text/plain": [
       "RandomForestRegressor(max_depth=20, n_estimators=1000, random_state=42)"
      ]
     },
     "execution_count": 10,
     "metadata": {},
     "output_type": "execute_result"
    }
   ],
   "source": [
    "regr = RandomForestRegressor(n_estimators=1000, max_depth=20, random_state=42)\n",
    "regr.fit(x_train, y_train.values.ravel())"
   ]
  },
  {
   "cell_type": "code",
   "execution_count": 11,
   "metadata": {},
   "outputs": [],
   "source": [
    "# make prediction\n",
    "predictions = regr.predict(x_test)"
   ]
  },
  {
   "cell_type": "code",
   "execution_count": 12,
   "metadata": {},
   "outputs": [
    {
     "data": {
      "text/html": [
       "<div>\n",
       "<style scoped>\n",
       "    .dataframe tbody tr th:only-of-type {\n",
       "        vertical-align: middle;\n",
       "    }\n",
       "\n",
       "    .dataframe tbody tr th {\n",
       "        vertical-align: top;\n",
       "    }\n",
       "\n",
       "    .dataframe thead th {\n",
       "        text-align: right;\n",
       "    }\n",
       "</style>\n",
       "<table border=\"1\" class=\"dataframe\">\n",
       "  <thead>\n",
       "    <tr style=\"text-align: right;\">\n",
       "      <th></th>\n",
       "      <th>model</th>\n",
       "      <th>year</th>\n",
       "      <th>transmission</th>\n",
       "      <th>mileage</th>\n",
       "      <th>fuelType</th>\n",
       "      <th>mpg</th>\n",
       "      <th>engineSize</th>\n",
       "      <th>price</th>\n",
       "      <th>prediction</th>\n",
       "    </tr>\n",
       "  </thead>\n",
       "  <tbody>\n",
       "    <tr>\n",
       "      <th>17610</th>\n",
       "      <td>0</td>\n",
       "      <td>2014</td>\n",
       "      <td>0</td>\n",
       "      <td>21793</td>\n",
       "      <td>0</td>\n",
       "      <td>65.7</td>\n",
       "      <td>1.0</td>\n",
       "      <td>6995</td>\n",
       "      <td>8011.494959</td>\n",
       "    </tr>\n",
       "    <tr>\n",
       "      <th>7076</th>\n",
       "      <td>0</td>\n",
       "      <td>2017</td>\n",
       "      <td>0</td>\n",
       "      <td>29020</td>\n",
       "      <td>0</td>\n",
       "      <td>65.7</td>\n",
       "      <td>1.0</td>\n",
       "      <td>8999</td>\n",
       "      <td>9144.228082</td>\n",
       "    </tr>\n",
       "    <tr>\n",
       "      <th>1713</th>\n",
       "      <td>1</td>\n",
       "      <td>2015</td>\n",
       "      <td>0</td>\n",
       "      <td>46155</td>\n",
       "      <td>1</td>\n",
       "      <td>67.3</td>\n",
       "      <td>1.6</td>\n",
       "      <td>7998</td>\n",
       "      <td>8048.740816</td>\n",
       "    </tr>\n",
       "    <tr>\n",
       "      <th>1611</th>\n",
       "      <td>7</td>\n",
       "      <td>2013</td>\n",
       "      <td>0</td>\n",
       "      <td>43036</td>\n",
       "      <td>0</td>\n",
       "      <td>55.4</td>\n",
       "      <td>1.0</td>\n",
       "      <td>5491</td>\n",
       "      <td>6008.286390</td>\n",
       "    </tr>\n",
       "    <tr>\n",
       "      <th>16830</th>\n",
       "      <td>6</td>\n",
       "      <td>2009</td>\n",
       "      <td>0</td>\n",
       "      <td>79000</td>\n",
       "      <td>1</td>\n",
       "      <td>48.7</td>\n",
       "      <td>1.8</td>\n",
       "      <td>3790</td>\n",
       "      <td>3172.297000</td>\n",
       "    </tr>\n",
       "  </tbody>\n",
       "</table>\n",
       "</div>"
      ],
      "text/plain": [
       "      model  year transmission  mileage fuelType   mpg  engineSize  price  \\\n",
       "17610     0  2014            0    21793        0  65.7         1.0   6995   \n",
       "7076      0  2017            0    29020        0  65.7         1.0   8999   \n",
       "1713      1  2015            0    46155        1  67.3         1.6   7998   \n",
       "1611      7  2013            0    43036        0  55.4         1.0   5491   \n",
       "16830     6  2009            0    79000        1  48.7         1.8   3790   \n",
       "\n",
       "        prediction  \n",
       "17610  8011.494959  \n",
       "7076   9144.228082  \n",
       "1713   8048.740816  \n",
       "1611   6008.286390  \n",
       "16830  3172.297000  "
      ]
     },
     "execution_count": 12,
     "metadata": {},
     "output_type": "execute_result"
    }
   ],
   "source": [
    "result = x_test\n",
    "result['price'] = y_test\n",
    "result['prediction'] = predictions.tolist()\n",
    "result.head()"
   ]
  },
  {
   "cell_type": "code",
   "execution_count": 13,
   "metadata": {},
   "outputs": [
    {
     "data": {
      "text/html": [
       "<div>\n",
       "<style scoped>\n",
       "    .dataframe tbody tr th:only-of-type {\n",
       "        vertical-align: middle;\n",
       "    }\n",
       "\n",
       "    .dataframe tbody tr th {\n",
       "        vertical-align: top;\n",
       "    }\n",
       "\n",
       "    .dataframe thead th {\n",
       "        text-align: right;\n",
       "    }\n",
       "</style>\n",
       "<table border=\"1\" class=\"dataframe\">\n",
       "  <thead>\n",
       "    <tr style=\"text-align: right;\">\n",
       "      <th></th>\n",
       "      <th>model</th>\n",
       "      <th>year</th>\n",
       "      <th>transmission</th>\n",
       "      <th>mileage</th>\n",
       "      <th>fuelType</th>\n",
       "      <th>mpg</th>\n",
       "      <th>engineSize</th>\n",
       "      <th>price</th>\n",
       "      <th>prediction</th>\n",
       "    </tr>\n",
       "  </thead>\n",
       "  <tbody>\n",
       "    <tr>\n",
       "      <th>17610</th>\n",
       "      <td>0</td>\n",
       "      <td>2014</td>\n",
       "      <td>0</td>\n",
       "      <td>21793</td>\n",
       "      <td>0</td>\n",
       "      <td>65.7</td>\n",
       "      <td>1.0</td>\n",
       "      <td>6995</td>\n",
       "      <td>8011.494959</td>\n",
       "    </tr>\n",
       "    <tr>\n",
       "      <th>7076</th>\n",
       "      <td>0</td>\n",
       "      <td>2017</td>\n",
       "      <td>0</td>\n",
       "      <td>29020</td>\n",
       "      <td>0</td>\n",
       "      <td>65.7</td>\n",
       "      <td>1.0</td>\n",
       "      <td>8999</td>\n",
       "      <td>9144.228082</td>\n",
       "    </tr>\n",
       "    <tr>\n",
       "      <th>1713</th>\n",
       "      <td>1</td>\n",
       "      <td>2015</td>\n",
       "      <td>0</td>\n",
       "      <td>46155</td>\n",
       "      <td>1</td>\n",
       "      <td>67.3</td>\n",
       "      <td>1.6</td>\n",
       "      <td>7998</td>\n",
       "      <td>8048.740816</td>\n",
       "    </tr>\n",
       "    <tr>\n",
       "      <th>1611</th>\n",
       "      <td>7</td>\n",
       "      <td>2013</td>\n",
       "      <td>0</td>\n",
       "      <td>43036</td>\n",
       "      <td>0</td>\n",
       "      <td>55.4</td>\n",
       "      <td>1.0</td>\n",
       "      <td>5491</td>\n",
       "      <td>6008.286390</td>\n",
       "    </tr>\n",
       "    <tr>\n",
       "      <th>16830</th>\n",
       "      <td>6</td>\n",
       "      <td>2009</td>\n",
       "      <td>0</td>\n",
       "      <td>79000</td>\n",
       "      <td>1</td>\n",
       "      <td>48.7</td>\n",
       "      <td>1.8</td>\n",
       "      <td>3790</td>\n",
       "      <td>3172.297000</td>\n",
       "    </tr>\n",
       "    <tr>\n",
       "      <th>...</th>\n",
       "      <td>...</td>\n",
       "      <td>...</td>\n",
       "      <td>...</td>\n",
       "      <td>...</td>\n",
       "      <td>...</td>\n",
       "      <td>...</td>\n",
       "      <td>...</td>\n",
       "      <td>...</td>\n",
       "      <td>...</td>\n",
       "    </tr>\n",
       "    <tr>\n",
       "      <th>7731</th>\n",
       "      <td>6</td>\n",
       "      <td>2019</td>\n",
       "      <td>1</td>\n",
       "      <td>8865</td>\n",
       "      <td>1</td>\n",
       "      <td>58.9</td>\n",
       "      <td>2.0</td>\n",
       "      <td>22000</td>\n",
       "      <td>20014.604635</td>\n",
       "    </tr>\n",
       "    <tr>\n",
       "      <th>11655</th>\n",
       "      <td>0</td>\n",
       "      <td>2018</td>\n",
       "      <td>0</td>\n",
       "      <td>14173</td>\n",
       "      <td>0</td>\n",
       "      <td>58.9</td>\n",
       "      <td>1.0</td>\n",
       "      <td>13699</td>\n",
       "      <td>12213.051960</td>\n",
       "    </tr>\n",
       "    <tr>\n",
       "      <th>10536</th>\n",
       "      <td>6</td>\n",
       "      <td>2020</td>\n",
       "      <td>1</td>\n",
       "      <td>2213</td>\n",
       "      <td>2</td>\n",
       "      <td>47.9</td>\n",
       "      <td>2.0</td>\n",
       "      <td>24979</td>\n",
       "      <td>23990.146429</td>\n",
       "    </tr>\n",
       "    <tr>\n",
       "      <th>11885</th>\n",
       "      <td>0</td>\n",
       "      <td>2017</td>\n",
       "      <td>0</td>\n",
       "      <td>22578</td>\n",
       "      <td>0</td>\n",
       "      <td>65.7</td>\n",
       "      <td>1.0</td>\n",
       "      <td>10500</td>\n",
       "      <td>9872.165952</td>\n",
       "    </tr>\n",
       "    <tr>\n",
       "      <th>4032</th>\n",
       "      <td>0</td>\n",
       "      <td>2020</td>\n",
       "      <td>0</td>\n",
       "      <td>10</td>\n",
       "      <td>0</td>\n",
       "      <td>55.4</td>\n",
       "      <td>1.0</td>\n",
       "      <td>19718</td>\n",
       "      <td>14392.728000</td>\n",
       "    </tr>\n",
       "  </tbody>\n",
       "</table>\n",
       "<p>3594 rows × 9 columns</p>\n",
       "</div>"
      ],
      "text/plain": [
       "      model  year transmission  mileage fuelType   mpg  engineSize  price  \\\n",
       "17610     0  2014            0    21793        0  65.7         1.0   6995   \n",
       "7076      0  2017            0    29020        0  65.7         1.0   8999   \n",
       "1713      1  2015            0    46155        1  67.3         1.6   7998   \n",
       "1611      7  2013            0    43036        0  55.4         1.0   5491   \n",
       "16830     6  2009            0    79000        1  48.7         1.8   3790   \n",
       "...     ...   ...          ...      ...      ...   ...         ...    ...   \n",
       "7731      6  2019            1     8865        1  58.9         2.0  22000   \n",
       "11655     0  2018            0    14173        0  58.9         1.0  13699   \n",
       "10536     6  2020            1     2213        2  47.9         2.0  24979   \n",
       "11885     0  2017            0    22578        0  65.7         1.0  10500   \n",
       "4032      0  2020            0       10        0  55.4         1.0  19718   \n",
       "\n",
       "         prediction  \n",
       "17610   8011.494959  \n",
       "7076    9144.228082  \n",
       "1713    8048.740816  \n",
       "1611    6008.286390  \n",
       "16830   3172.297000  \n",
       "...             ...  \n",
       "7731   20014.604635  \n",
       "11655  12213.051960  \n",
       "10536  23990.146429  \n",
       "11885   9872.165952  \n",
       "4032   14392.728000  \n",
       "\n",
       "[3594 rows x 9 columns]"
      ]
     },
     "execution_count": 13,
     "metadata": {},
     "output_type": "execute_result"
    }
   ],
   "source": [
    "x_test"
   ]
  },
  {
   "cell_type": "code",
   "execution_count": 11,
   "metadata": {},
   "outputs": [],
   "source": [
    "import pickle"
   ]
  },
  {
   "cell_type": "code",
   "execution_count": 15,
   "metadata": {},
   "outputs": [],
   "source": [
    "# pickle.dump(regr, open('randomForestModel.sav', 'wb'))\n",
    "with open('random_forest_model.pkl', 'wb') as f:\n",
    "    pickle.dump(regr, f)"
   ]
  },
  {
   "cell_type": "code",
   "execution_count": 12,
   "metadata": {},
   "outputs": [],
   "source": [
    "# load_model = pickle.load(open('randomForestModel.sav', 'rb'))\n",
    "with open('random_forest_model.pkl', 'rb') as f:\n",
    "    loaded_model = pickle.load(f)"
   ]
  },
  {
   "cell_type": "code",
   "execution_count": 14,
   "metadata": {},
   "outputs": [
    {
     "name": "stdout",
     "output_type": "stream",
     "text": [
      "[ 8011.49495942  9144.22808226  8048.74081553 ... 23990.14642857\n",
      "  9872.16595186 14392.728     ]\n"
     ]
    }
   ],
   "source": [
    "y_pred = loaded_model.predict(x_test)\n",
    "print(y_pred)\n"
   ]
  },
  {
   "cell_type": "code",
   "execution_count": 16,
   "metadata": {},
   "outputs": [
    {
     "name": "stdout",
     "output_type": "stream",
     "text": [
      "MSE: 1634060.59\n",
      "MAE: 870.13\n",
      "R2 Score: 0.93\n"
     ]
    }
   ],
   "source": [
    "mse = mean_squared_error(y_test.values.ravel(), y_pred)\n",
    "mae = mean_absolute_error(y_test.values.ravel(), y_pred)\n",
    "r2 = r2_score(y_test.values.ravel(), y_pred)\n",
    "\n",
    "print(f\"MSE: {round(mse, 2)}\")\n",
    "print(f\"MAE: {round(mae, 2)}\")\n",
    "print(f\"R2 Score: {round(r2, 2)}\")"
   ]
  },
  {
   "cell_type": "code",
   "execution_count": 17,
   "metadata": {},
   "outputs": [
    {
     "data": {
      "text/html": [
       "<div>\n",
       "<style scoped>\n",
       "    .dataframe tbody tr th:only-of-type {\n",
       "        vertical-align: middle;\n",
       "    }\n",
       "\n",
       "    .dataframe tbody tr th {\n",
       "        vertical-align: top;\n",
       "    }\n",
       "\n",
       "    .dataframe thead th {\n",
       "        text-align: right;\n",
       "    }\n",
       "</style>\n",
       "<table border=\"1\" class=\"dataframe\">\n",
       "  <thead>\n",
       "    <tr style=\"text-align: right;\">\n",
       "      <th></th>\n",
       "      <th>model</th>\n",
       "      <th>year</th>\n",
       "      <th>transmission</th>\n",
       "      <th>mileage</th>\n",
       "      <th>fuelType</th>\n",
       "      <th>mpg</th>\n",
       "      <th>engineSize</th>\n",
       "    </tr>\n",
       "  </thead>\n",
       "  <tbody>\n",
       "    <tr>\n",
       "      <th>17610</th>\n",
       "      <td>0</td>\n",
       "      <td>2014</td>\n",
       "      <td>0</td>\n",
       "      <td>21793</td>\n",
       "      <td>0</td>\n",
       "      <td>65.7</td>\n",
       "      <td>1.0</td>\n",
       "    </tr>\n",
       "    <tr>\n",
       "      <th>7076</th>\n",
       "      <td>0</td>\n",
       "      <td>2017</td>\n",
       "      <td>0</td>\n",
       "      <td>29020</td>\n",
       "      <td>0</td>\n",
       "      <td>65.7</td>\n",
       "      <td>1.0</td>\n",
       "    </tr>\n",
       "    <tr>\n",
       "      <th>1713</th>\n",
       "      <td>1</td>\n",
       "      <td>2015</td>\n",
       "      <td>0</td>\n",
       "      <td>46155</td>\n",
       "      <td>1</td>\n",
       "      <td>67.3</td>\n",
       "      <td>1.6</td>\n",
       "    </tr>\n",
       "    <tr>\n",
       "      <th>1611</th>\n",
       "      <td>7</td>\n",
       "      <td>2013</td>\n",
       "      <td>0</td>\n",
       "      <td>43036</td>\n",
       "      <td>0</td>\n",
       "      <td>55.4</td>\n",
       "      <td>1.0</td>\n",
       "    </tr>\n",
       "    <tr>\n",
       "      <th>16830</th>\n",
       "      <td>6</td>\n",
       "      <td>2009</td>\n",
       "      <td>0</td>\n",
       "      <td>79000</td>\n",
       "      <td>1</td>\n",
       "      <td>48.7</td>\n",
       "      <td>1.8</td>\n",
       "    </tr>\n",
       "    <tr>\n",
       "      <th>...</th>\n",
       "      <td>...</td>\n",
       "      <td>...</td>\n",
       "      <td>...</td>\n",
       "      <td>...</td>\n",
       "      <td>...</td>\n",
       "      <td>...</td>\n",
       "      <td>...</td>\n",
       "    </tr>\n",
       "    <tr>\n",
       "      <th>7731</th>\n",
       "      <td>6</td>\n",
       "      <td>2019</td>\n",
       "      <td>1</td>\n",
       "      <td>8865</td>\n",
       "      <td>1</td>\n",
       "      <td>58.9</td>\n",
       "      <td>2.0</td>\n",
       "    </tr>\n",
       "    <tr>\n",
       "      <th>11655</th>\n",
       "      <td>0</td>\n",
       "      <td>2018</td>\n",
       "      <td>0</td>\n",
       "      <td>14173</td>\n",
       "      <td>0</td>\n",
       "      <td>58.9</td>\n",
       "      <td>1.0</td>\n",
       "    </tr>\n",
       "    <tr>\n",
       "      <th>10536</th>\n",
       "      <td>6</td>\n",
       "      <td>2020</td>\n",
       "      <td>1</td>\n",
       "      <td>2213</td>\n",
       "      <td>2</td>\n",
       "      <td>47.9</td>\n",
       "      <td>2.0</td>\n",
       "    </tr>\n",
       "    <tr>\n",
       "      <th>11885</th>\n",
       "      <td>0</td>\n",
       "      <td>2017</td>\n",
       "      <td>0</td>\n",
       "      <td>22578</td>\n",
       "      <td>0</td>\n",
       "      <td>65.7</td>\n",
       "      <td>1.0</td>\n",
       "    </tr>\n",
       "    <tr>\n",
       "      <th>4032</th>\n",
       "      <td>0</td>\n",
       "      <td>2020</td>\n",
       "      <td>0</td>\n",
       "      <td>10</td>\n",
       "      <td>0</td>\n",
       "      <td>55.4</td>\n",
       "      <td>1.0</td>\n",
       "    </tr>\n",
       "  </tbody>\n",
       "</table>\n",
       "<p>3594 rows × 7 columns</p>\n",
       "</div>"
      ],
      "text/plain": [
       "      model  year transmission  mileage fuelType   mpg  engineSize\n",
       "17610     0  2014            0    21793        0  65.7         1.0\n",
       "7076      0  2017            0    29020        0  65.7         1.0\n",
       "1713      1  2015            0    46155        1  67.3         1.6\n",
       "1611      7  2013            0    43036        0  55.4         1.0\n",
       "16830     6  2009            0    79000        1  48.7         1.8\n",
       "...     ...   ...          ...      ...      ...   ...         ...\n",
       "7731      6  2019            1     8865        1  58.9         2.0\n",
       "11655     0  2018            0    14173        0  58.9         1.0\n",
       "10536     6  2020            1     2213        2  47.9         2.0\n",
       "11885     0  2017            0    22578        0  65.7         1.0\n",
       "4032      0  2020            0       10        0  55.4         1.0\n",
       "\n",
       "[3594 rows x 7 columns]"
      ]
     },
     "execution_count": 17,
     "metadata": {},
     "output_type": "execute_result"
    }
   ],
   "source": [
    "x_test"
   ]
  }
 ],
 "metadata": {
  "kernelspec": {
   "display_name": "Python 3",
   "language": "python",
   "name": "python3"
  },
  "language_info": {
   "codemirror_mode": {
    "name": "ipython",
    "version": 3
   },
   "file_extension": ".py",
   "mimetype": "text/x-python",
   "name": "python",
   "nbconvert_exporter": "python",
   "pygments_lexer": "ipython3",
   "version": "3.8.10"
  }
 },
 "nbformat": 4,
 "nbformat_minor": 2
}
